{
 "cells": [
  {
   "cell_type": "code",
   "execution_count": 1,
   "id": "aab9094f-c7b3-4a2b-9613-220a5dd55fe9",
   "metadata": {},
   "outputs": [],
   "source": [
    "import pandas as pd\n",
    "import numpy as np\n",
    "from scipy import stats\n",
    "from scipy.stats import normaltest, kstest, norm\n",
    "import matplotlib.pyplot as plt\n",
    "import seaborn as sns\n",
    "import statistics\n",
    "\n",
    "#Sklearn\n",
    "from sklearn.preprocessing import MinMaxScaler, RobustScaler, StandardScaler, QuantileTransformer\n",
    "from sklearn.preprocessing import PolynomialFeatures\n",
    "from sklearn.linear_model import LinearRegression, LassoLars, TweedieRegressor\n",
    "from sklearn.metrics import mean_squared_error\n",
    "\n",
    "from acquire import wrangle_zillow, train_validate, check_p_val, scale_zillow, find_baseline, train_val_test"
   ]
  },
  {
   "cell_type": "code",
   "execution_count": 2,
   "id": "377b1b1e-9161-4f07-8e6b-51593d83d2fa",
   "metadata": {},
   "outputs": [],
   "source": [
    "#Sets options to show more stuff\n",
    "pd.options.display.max_columns = None\n",
    "pd.options.display.width = 100\n",
    "pd.options.display.max_colwidth = None\n",
    "pd.options.display.max_rows = 200"
   ]
  },
  {
   "cell_type": "code",
   "execution_count": 3,
   "id": "d04dacf6-d057-4171-b539-623e07067eb3",
   "metadata": {},
   "outputs": [],
   "source": [
    "random_seed = 1969\n",
    "alpha = 0.05\n",
    "target_col = 'tax_value'"
   ]
  },
  {
   "cell_type": "markdown",
   "id": "11690bed-2088-48ad-9447-efd632366315",
   "metadata": {},
   "source": [
    "## Modeling <a class=\"anchor\" id=\"modeling\"></a>"
   ]
  },
  {
   "cell_type": "markdown",
   "id": "8268720b-58de-4397-af81-905b2e821b06",
   "metadata": {},
   "source": [
    "### Introduction <a class=\"anchor\" id=\"m_intro\"></a>"
   ]
  },
  {
   "cell_type": "markdown",
   "id": "3339e0f1-e998-457e-85b6-89d496d5c0fa",
   "metadata": {},
   "source": [
    "Splitting the data prior to creating the dummy columns resulted in an inconsistant number of columns. This notebook was created as a result. Final solution was to create dummy columns from the origional data and reassign the 'train', 'val' and 'test' DataFrames with the new data."
   ]
  },
  {
   "cell_type": "markdown",
   "id": "f8545f83-4da5-4b15-b06e-28fddd87b30e",
   "metadata": {},
   "source": [
    "### Preparing the data for modeling"
   ]
  },
  {
   "cell_type": "code",
   "execution_count": 4,
   "id": "5a3f72a9-075f-4961-aaee-e1717f655d56",
   "metadata": {},
   "outputs": [],
   "source": [
    "df = wrangle_zillow()"
   ]
  },
  {
   "cell_type": "code",
   "execution_count": 5,
   "id": "b305bc0f-95b7-47ef-b5b1-ef7d3b23d2cc",
   "metadata": {},
   "outputs": [],
   "source": [
    "df = df.drop(columns='transactiondate')"
   ]
  },
  {
   "cell_type": "markdown",
   "id": "f8470bb2-6c0e-456e-b193-b4904a049c32",
   "metadata": {},
   "source": [
    "#### Creating dummy columns for catagorical data"
   ]
  },
  {
   "cell_type": "code",
   "execution_count": 6,
   "id": "dc613929-cbdd-4693-a124-7f853ee3ec5c",
   "metadata": {},
   "outputs": [],
   "source": [
    "#Create dummy columns of my categorical features\n",
    "df = pd.get_dummies(columns=['bedrooms', 'bathrooms'], data=df)\n",
    "#train.head()"
   ]
  },
  {
   "cell_type": "code",
   "execution_count": 7,
   "id": "3f8c9df3-7a09-4552-8f8a-a8ddaf376ef8",
   "metadata": {},
   "outputs": [],
   "source": [
    "train, val, test = train_validate(df)"
   ]
  },
  {
   "cell_type": "markdown",
   "id": "cc14dca6-b997-453b-af07-9df7e25765eb",
   "metadata": {},
   "source": [
    "#### Scaling the columns with continuous data"
   ]
  },
  {
   "cell_type": "code",
   "execution_count": 8,
   "id": "8889ff2e-15f0-4c16-b9fd-ddb0ada9f439",
   "metadata": {},
   "outputs": [],
   "source": [
    "train, val, test = scale_zillow(train, val, test, scaler_model = 1, cont_columns = ['sqft'])"
   ]
  },
  {
   "cell_type": "code",
   "execution_count": 9,
   "id": "f462d35f-87a5-4e3a-9996-1c314eb8e89f",
   "metadata": {},
   "outputs": [],
   "source": [
    "X_train, y_train, X_val, y_val, X_test, y_test = train_val_test(train, val, test, target_col)"
   ]
  },
  {
   "cell_type": "markdown",
   "id": "62a779fc-afaa-467b-8ae0-62176287b1b8",
   "metadata": {},
   "source": [
    "### Baseline <a class=\"anchor\" id=\"baseline\"></a>"
   ]
  },
  {
   "cell_type": "code",
   "execution_count": 10,
   "id": "13927e6b-009c-4ccd-b8f5-49a3a8d167a4",
   "metadata": {},
   "outputs": [
    {
     "name": "stdout",
     "output_type": "stream",
     "text": [
      "RMSE Mean training baseline: 369,346\n",
      "*****************************************\n",
      "RMSE Median training baseline: 379,222\n"
     ]
    }
   ],
   "source": [
    "#Eastablishes the standard to beat\n",
    "baseline = find_baseline(y_train)"
   ]
  },
  {
   "cell_type": "code",
   "execution_count": 11,
   "id": "0ee8258e-90cc-4376-81a1-bc6cdc16c76e",
   "metadata": {},
   "outputs": [
    {
     "data": {
      "text/plain": [
       "count      28389.0\n",
       "mean      446632.0\n",
       "std       369352.0\n",
       "min         9242.0\n",
       "25%       186564.0\n",
       "50%       360647.0\n",
       "75%       586162.0\n",
       "max      2381729.0\n",
       "Name: tax_value, dtype: float64"
      ]
     },
     "execution_count": 11,
     "metadata": {},
     "output_type": "execute_result"
    }
   ],
   "source": [
    "round(y_train.describe(),0)"
   ]
  },
  {
   "cell_type": "code",
   "execution_count": 12,
   "id": "ac0ae82c-8913-4382-8f12-0d557b35f2eb",
   "metadata": {},
   "outputs": [],
   "source": [
    "#metrics\n",
    "rmse_scores = []"
   ]
  },
  {
   "cell_type": "markdown",
   "id": "00c2a992-827c-4161-983b-3a73c0172e5e",
   "metadata": {},
   "source": [
    "### Model 1 <a class=\"anchor\" id=\"mod_1\"></a>"
   ]
  },
  {
   "cell_type": "markdown",
   "id": "c91644d0-1042-4ad1-aa99-62e1f85852f5",
   "metadata": {},
   "source": [
    "#### LinearRegression(OLS)"
   ]
  },
  {
   "cell_type": "code",
   "execution_count": 13,
   "id": "909fdf65-0112-4c93-9ae7-e05dd46f41a5",
   "metadata": {},
   "outputs": [],
   "source": [
    "lm = LinearRegression(normalize=True)"
   ]
  },
  {
   "cell_type": "code",
   "execution_count": 14,
   "id": "13e9cd07-c2a3-4d0b-b4b3-68c845495aee",
   "metadata": {},
   "outputs": [
    {
     "data": {
      "text/plain": [
       "LinearRegression(normalize=True)"
      ]
     },
     "execution_count": 14,
     "metadata": {},
     "output_type": "execute_result"
    }
   ],
   "source": [
    "lm.fit(X_train, y_train)"
   ]
  },
  {
   "cell_type": "code",
   "execution_count": 15,
   "id": "6326a438-8e51-4bac-9a0a-b662872f7415",
   "metadata": {},
   "outputs": [],
   "source": [
    "lm_preds = pd.DataFrame({'actual':y_train})"
   ]
  },
  {
   "cell_type": "code",
   "execution_count": 16,
   "id": "27d1e779-e9ab-47cb-9080-72d8669f070c",
   "metadata": {},
   "outputs": [],
   "source": [
    "lm_preds['pred_lm'] = lm.predict(X_train)"
   ]
  },
  {
   "cell_type": "code",
   "execution_count": 17,
   "id": "c93157a7-77f0-4775-8d78-1c30ebf8e8ea",
   "metadata": {},
   "outputs": [],
   "source": [
    "lm_val_preds = pd.DataFrame({'actual':y_val})"
   ]
  },
  {
   "cell_type": "code",
   "execution_count": 18,
   "id": "5f6c6709-cdfc-4126-a1cb-af83be9c2075",
   "metadata": {},
   "outputs": [],
   "source": [
    "lm_val_preds['lm_val_preds'] = lm.predict(X_val)"
   ]
  },
  {
   "cell_type": "code",
   "execution_count": 19,
   "id": "933562e9-33b6-404f-99cd-d09d9a517a90",
   "metadata": {},
   "outputs": [
    {
     "data": {
      "text/html": [
       "<div>\n",
       "<style scoped>\n",
       "    .dataframe tbody tr th:only-of-type {\n",
       "        vertical-align: middle;\n",
       "    }\n",
       "\n",
       "    .dataframe tbody tr th {\n",
       "        vertical-align: top;\n",
       "    }\n",
       "\n",
       "    .dataframe thead th {\n",
       "        text-align: right;\n",
       "    }\n",
       "</style>\n",
       "<table border=\"1\" class=\"dataframe\">\n",
       "  <thead>\n",
       "    <tr style=\"text-align: right;\">\n",
       "      <th></th>\n",
       "      <th>actual</th>\n",
       "      <th>lm_val_preds</th>\n",
       "    </tr>\n",
       "  </thead>\n",
       "  <tbody>\n",
       "    <tr>\n",
       "      <th>32923</th>\n",
       "      <td>89544.0</td>\n",
       "      <td>285184.0</td>\n",
       "    </tr>\n",
       "    <tr>\n",
       "      <th>8931</th>\n",
       "      <td>525000.0</td>\n",
       "      <td>766976.0</td>\n",
       "    </tr>\n",
       "    <tr>\n",
       "      <th>44110</th>\n",
       "      <td>980125.0</td>\n",
       "      <td>595456.0</td>\n",
       "    </tr>\n",
       "    <tr>\n",
       "      <th>33210</th>\n",
       "      <td>581186.0</td>\n",
       "      <td>399872.0</td>\n",
       "    </tr>\n",
       "    <tr>\n",
       "      <th>2026</th>\n",
       "      <td>573616.0</td>\n",
       "      <td>350720.0</td>\n",
       "    </tr>\n",
       "  </tbody>\n",
       "</table>\n",
       "</div>"
      ],
      "text/plain": [
       "         actual  lm_val_preds\n",
       "32923   89544.0      285184.0\n",
       "8931   525000.0      766976.0\n",
       "44110  980125.0      595456.0\n",
       "33210  581186.0      399872.0\n",
       "2026   573616.0      350720.0"
      ]
     },
     "execution_count": 19,
     "metadata": {},
     "output_type": "execute_result"
    }
   ],
   "source": [
    "lm_val_preds.head()"
   ]
  },
  {
   "cell_type": "code",
   "execution_count": 20,
   "id": "8e777c7c-fef8-4be4-b39d-f0811aaebf48",
   "metadata": {},
   "outputs": [],
   "source": [
    "rmse_train = mean_squared_error(lm_preds['actual'], lm_preds['pred_lm'], squared=False) "
   ]
  },
  {
   "cell_type": "code",
   "execution_count": 21,
   "id": "d9f40693-4121-48b3-8a01-64838d3a8805",
   "metadata": {},
   "outputs": [],
   "source": [
    "rmse_val = mean_squared_error(lm_val_preds['actual'], lm_val_preds['lm_val_preds'], squared=False) "
   ]
  },
  {
   "cell_type": "code",
   "execution_count": 22,
   "id": "3088af6d-e0ca-4317-8f46-83a37146ec98",
   "metadata": {},
   "outputs": [],
   "source": [
    "rmse_scores.append({'Model':'OLS Linear Regression',\n",
    "                    'RMSE on Train': rmse_train,\n",
    "                    'RMSE on Validate': rmse_val})"
   ]
  },
  {
   "cell_type": "code",
   "execution_count": 23,
   "id": "9cf87d8e-7637-4500-b160-e6c1b682a220",
   "metadata": {},
   "outputs": [
    {
     "data": {
      "text/plain": [
       "[{'Model': 'OLS Linear Regression',\n",
       "  'RMSE on Train': 300476.7586401175,\n",
       "  'RMSE on Validate': 299644.9906544258}]"
      ]
     },
     "execution_count": 23,
     "metadata": {},
     "output_type": "execute_result"
    }
   ],
   "source": [
    "rmse_scores"
   ]
  },
  {
   "cell_type": "markdown",
   "id": "200b3057-0919-4682-b5a5-0739844fe9d8",
   "metadata": {},
   "source": [
    "### Model 2 <a class=\"anchor\" id=\"mod_2\"></a>"
   ]
  },
  {
   "cell_type": "markdown",
   "id": "773f0c1a-7347-4b3f-ad01-2989f847d1bb",
   "metadata": {},
   "source": [
    "#### LassoLars"
   ]
  },
  {
   "cell_type": "code",
   "execution_count": 24,
   "id": "e3ef30e3-6fac-488e-89d0-96ad03c17d36",
   "metadata": {},
   "outputs": [],
   "source": [
    "lars = LassoLars(alpha=.01)"
   ]
  },
  {
   "cell_type": "code",
   "execution_count": 25,
   "id": "38d1c589-1422-4b78-b5d2-d3d210f34a0f",
   "metadata": {},
   "outputs": [
    {
     "data": {
      "text/plain": [
       "LassoLars(alpha=0.01)"
      ]
     },
     "execution_count": 25,
     "metadata": {},
     "output_type": "execute_result"
    }
   ],
   "source": [
    "lars.fit(X_train, y_train)"
   ]
  },
  {
   "cell_type": "code",
   "execution_count": 26,
   "id": "8b3cf33f-5d92-4ef4-bfde-7598f86e2763",
   "metadata": {},
   "outputs": [],
   "source": [
    "ll_preds = pd.DataFrame({'actual':y_train})"
   ]
  },
  {
   "cell_type": "code",
   "execution_count": 27,
   "id": "c0788d8f-aa43-4cef-986d-dff86f529c1e",
   "metadata": {},
   "outputs": [],
   "source": [
    "ll_preds['pred_ll'] = lars.predict(X_train)"
   ]
  },
  {
   "cell_type": "code",
   "execution_count": 28,
   "id": "97be7b85-3c6b-4083-b18c-42ef7c834c63",
   "metadata": {},
   "outputs": [],
   "source": [
    "ll_val_preds = pd.DataFrame({'actual':y_val})"
   ]
  },
  {
   "cell_type": "code",
   "execution_count": 29,
   "id": "5d79389a-f686-4306-9932-38b3cabf70bd",
   "metadata": {},
   "outputs": [],
   "source": [
    "ll_val_preds['ll_val_preds'] = lars.predict(X_val)"
   ]
  },
  {
   "cell_type": "code",
   "execution_count": 30,
   "id": "748a677d-3239-4d37-9455-5689e6ab776d",
   "metadata": {},
   "outputs": [],
   "source": [
    "rmse_train = mean_squared_error(ll_preds['actual'], ll_preds['pred_ll'], squared=False) "
   ]
  },
  {
   "cell_type": "code",
   "execution_count": 31,
   "id": "bc507cda-387c-4aae-985f-de232c461aed",
   "metadata": {},
   "outputs": [],
   "source": [
    "rmse_val = mean_squared_error(ll_val_preds['actual'], ll_val_preds['ll_val_preds'], squared=False) "
   ]
  },
  {
   "cell_type": "code",
   "execution_count": 32,
   "id": "39483966-f64b-4adf-b94e-0c5f01a667f5",
   "metadata": {},
   "outputs": [],
   "source": [
    "rmse_scores.append({'Model':'Lasso Lars',\n",
    "                    'RMSE on Train': rmse_train,\n",
    "                    'RMSE on Validate': rmse_val})"
   ]
  },
  {
   "cell_type": "code",
   "execution_count": 33,
   "id": "6bab30bc-be36-458e-ae73-552a24034631",
   "metadata": {},
   "outputs": [
    {
     "data": {
      "text/plain": [
       "[{'Model': 'OLS Linear Regression',\n",
       "  'RMSE on Train': 300476.7586401175,\n",
       "  'RMSE on Validate': 299644.9906544258},\n",
       " {'Model': 'Lasso Lars',\n",
       "  'RMSE on Train': 300469.5811996958,\n",
       "  'RMSE on Validate': 299639.1281171493}]"
      ]
     },
     "execution_count": 33,
     "metadata": {},
     "output_type": "execute_result"
    }
   ],
   "source": [
    "rmse_scores"
   ]
  },
  {
   "cell_type": "markdown",
   "id": "a6a389fb-ccdd-4c64-b8ba-d25f8c68ee10",
   "metadata": {},
   "source": [
    "### Model 3 <a class=\"anchor\" id=\"mod_3\"></a>"
   ]
  },
  {
   "cell_type": "markdown",
   "id": "f12f5f22-6115-4028-a690-31c8bd1a1152",
   "metadata": {},
   "source": [
    "#### TweedieRegressor (GLM)"
   ]
  },
  {
   "cell_type": "code",
   "execution_count": 34,
   "id": "3108c05b-085f-48a4-b9ba-0709262364fc",
   "metadata": {},
   "outputs": [],
   "source": [
    "glm = TweedieRegressor(power=1, alpha=1)"
   ]
  },
  {
   "cell_type": "code",
   "execution_count": 35,
   "id": "a24fbb34-d553-48b2-8e70-4726c3d384df",
   "metadata": {},
   "outputs": [
    {
     "data": {
      "text/plain": [
       "TweedieRegressor(alpha=1, power=1)"
      ]
     },
     "execution_count": 35,
     "metadata": {},
     "output_type": "execute_result"
    }
   ],
   "source": [
    "glm.fit(X_train, y_train)"
   ]
  },
  {
   "cell_type": "code",
   "execution_count": 36,
   "id": "699a6e9a-87e8-48dc-bdb8-c6579044dd42",
   "metadata": {},
   "outputs": [],
   "source": [
    "glm_preds = pd.DataFrame({'actual':y_train})"
   ]
  },
  {
   "cell_type": "code",
   "execution_count": 37,
   "id": "2319e66e-9bcc-4c5c-a09e-5e129357e14b",
   "metadata": {},
   "outputs": [],
   "source": [
    "glm_preds['pred_glm'] = glm.predict(X_train)"
   ]
  },
  {
   "cell_type": "code",
   "execution_count": 38,
   "id": "1f3437f8-a2da-4eb1-8d8b-dd5ec0bcb0fd",
   "metadata": {},
   "outputs": [],
   "source": [
    "glm_val_preds = pd.DataFrame({'actual':y_val})"
   ]
  },
  {
   "cell_type": "code",
   "execution_count": 39,
   "id": "9e1e8685-29ba-486f-86b8-0c280b85d4a4",
   "metadata": {},
   "outputs": [],
   "source": [
    "glm_val_preds['glm_val_preds'] = glm.predict(X_val)"
   ]
  },
  {
   "cell_type": "code",
   "execution_count": 40,
   "id": "68d28523-889d-4d60-964a-e9fc8a53afcb",
   "metadata": {},
   "outputs": [],
   "source": [
    "rmse_train = mean_squared_error(glm_preds['actual'], glm_preds['pred_glm'], squared=False) "
   ]
  },
  {
   "cell_type": "code",
   "execution_count": 41,
   "id": "15353560-5e98-4f3c-a6b0-cc7cfffd03eb",
   "metadata": {},
   "outputs": [],
   "source": [
    "rmse_val = mean_squared_error(glm_val_preds['actual'], glm_val_preds['glm_val_preds'], squared=False) "
   ]
  },
  {
   "cell_type": "code",
   "execution_count": 42,
   "id": "386a4402-763b-446b-a006-587a3dd272eb",
   "metadata": {},
   "outputs": [],
   "source": [
    "rmse_scores.append({'Model':'TweedieRegressor',\n",
    "                    'RMSE on Train': rmse_train,\n",
    "                    'RMSE on Validate': rmse_val})"
   ]
  },
  {
   "cell_type": "code",
   "execution_count": 43,
   "id": "31a41003-573a-417d-8e98-d71bf47db261",
   "metadata": {},
   "outputs": [
    {
     "data": {
      "text/plain": [
       "[{'Model': 'OLS Linear Regression',\n",
       "  'RMSE on Train': 300476.7586401175,\n",
       "  'RMSE on Validate': 299644.9906544258},\n",
       " {'Model': 'Lasso Lars',\n",
       "  'RMSE on Train': 300469.5811996958,\n",
       "  'RMSE on Validate': 299639.1281171493},\n",
       " {'Model': 'TweedieRegressor',\n",
       "  'RMSE on Train': 302024.4373588197,\n",
       "  'RMSE on Validate': 301787.1820815464}]"
      ]
     },
     "execution_count": 43,
     "metadata": {},
     "output_type": "execute_result"
    }
   ],
   "source": [
    "rmse_scores"
   ]
  },
  {
   "cell_type": "markdown",
   "id": "20b18854-e290-44a5-9a0b-1591d1b6582e",
   "metadata": {},
   "source": [
    "### Model 4 <a class=\"anchor\" id=\"mod_4\"></a>"
   ]
  },
  {
   "cell_type": "markdown",
   "id": "5be8d0d7-9f6c-4219-8e29-9971df753f8f",
   "metadata": {},
   "source": [
    "#### Polynomial Regression"
   ]
  },
  {
   "cell_type": "code",
   "execution_count": 44,
   "id": "18bf7911-e694-4710-9e00-7d9b5ec0c837",
   "metadata": {},
   "outputs": [],
   "source": [
    "# make the polynomial features to get a new set of features\n",
    "pf = PolynomialFeatures(degree=1)"
   ]
  },
  {
   "cell_type": "code",
   "execution_count": 45,
   "id": "b5e9ed21-fd2e-4cc1-8796-3a30fafd1b8f",
   "metadata": {},
   "outputs": [],
   "source": [
    "# fit and transform X_train_scaled\n",
    "X_train_degree2 = pf.fit_transform(X_train)"
   ]
  },
  {
   "cell_type": "code",
   "execution_count": 46,
   "id": "e9e3bce4-19f6-4744-bf78-a988836a5865",
   "metadata": {},
   "outputs": [],
   "source": [
    "# transform X_validate_scaled & X_test_scaled\n",
    "X_validate_degree2 = pf.transform(X_val)\n",
    "X_test_degree2 = pf.transform(X_test)"
   ]
  },
  {
   "cell_type": "markdown",
   "id": "7f8c1094-f780-4c53-af5e-62c9455cf065",
   "metadata": {},
   "source": [
    "#### Linear Regression"
   ]
  },
  {
   "cell_type": "code",
   "execution_count": 47,
   "id": "d2e996df-8d26-4d53-b1bc-8db4fb83afa1",
   "metadata": {},
   "outputs": [],
   "source": [
    "lm2 = LinearRegression(normalize=True)"
   ]
  },
  {
   "cell_type": "code",
   "execution_count": 48,
   "id": "c43f51ff-f181-4ec3-bb7d-0457ac6c873b",
   "metadata": {},
   "outputs": [
    {
     "data": {
      "text/plain": [
       "LinearRegression(normalize=True)"
      ]
     },
     "execution_count": 48,
     "metadata": {},
     "output_type": "execute_result"
    }
   ],
   "source": [
    "lm2.fit(X_train_degree2, y_train)"
   ]
  },
  {
   "cell_type": "code",
   "execution_count": 49,
   "id": "d281949d-5db8-4603-824f-9da9d5d9ef4d",
   "metadata": {},
   "outputs": [],
   "source": [
    "lm2_preds = pd.DataFrame({'actual':y_train})"
   ]
  },
  {
   "cell_type": "code",
   "execution_count": 50,
   "id": "d673cdfe-9e0d-42d3-a759-c0b8974be3bc",
   "metadata": {},
   "outputs": [],
   "source": [
    "lm2_preds['pred_lm2'] = lm2.predict(X_train_degree2)"
   ]
  },
  {
   "cell_type": "code",
   "execution_count": 51,
   "id": "4f2558d5-6936-4c06-8cb7-130a45067ba8",
   "metadata": {},
   "outputs": [],
   "source": [
    "lm2_val_preds = pd.DataFrame({'actual':y_val})"
   ]
  },
  {
   "cell_type": "code",
   "execution_count": 52,
   "id": "58b379b4-869e-4bd3-b9c2-70541d18bc9c",
   "metadata": {},
   "outputs": [],
   "source": [
    "lm2_val_preds['lm2_val_preds'] = lm2.predict(X_validate_degree2)"
   ]
  },
  {
   "cell_type": "code",
   "execution_count": 53,
   "id": "ad7a7487-1cf2-4518-ac82-59594e3335f6",
   "metadata": {},
   "outputs": [],
   "source": [
    "rmse_train = mean_squared_error(lm2_preds['actual'], lm2_preds['pred_lm2'], squared=False) "
   ]
  },
  {
   "cell_type": "code",
   "execution_count": 54,
   "id": "1b57e0bb-da91-4ef8-ba18-f1ae81dfdee5",
   "metadata": {},
   "outputs": [],
   "source": [
    "rmse_val = mean_squared_error(lm2_val_preds['actual'], lm2_val_preds['lm2_val_preds'], squared=False) "
   ]
  },
  {
   "cell_type": "code",
   "execution_count": 55,
   "id": "437c65cc-eb78-48e5-b6d0-53358a7e7f61",
   "metadata": {},
   "outputs": [],
   "source": [
    "rmse_scores.append({'Model':'Polynomial Regression',\n",
    "                    'RMSE on Train': rmse_train,\n",
    "                    'RMSE on Validate': rmse_val})"
   ]
  },
  {
   "cell_type": "code",
   "execution_count": 56,
   "id": "7d8e5cab-dea6-4cb7-a638-437334281d18",
   "metadata": {},
   "outputs": [
    {
     "data": {
      "text/plain": [
       "[{'Model': 'OLS Linear Regression',\n",
       "  'RMSE on Train': 300476.7586401175,\n",
       "  'RMSE on Validate': 299644.9906544258},\n",
       " {'Model': 'Lasso Lars',\n",
       "  'RMSE on Train': 300469.5811996958,\n",
       "  'RMSE on Validate': 299639.1281171493},\n",
       " {'Model': 'TweedieRegressor',\n",
       "  'RMSE on Train': 302024.4373588197,\n",
       "  'RMSE on Validate': 301787.1820815464},\n",
       " {'Model': 'Polynomial Regression',\n",
       "  'RMSE on Train': 300477.44983873144,\n",
       "  'RMSE on Validate': 299687.2503200106}]"
      ]
     },
     "execution_count": 56,
     "metadata": {},
     "output_type": "execute_result"
    }
   ],
   "source": [
    "rmse_scores"
   ]
  }
 ],
 "metadata": {
  "kernelspec": {
   "display_name": "Python 3 (ipykernel)",
   "language": "python",
   "name": "python3"
  },
  "language_info": {
   "codemirror_mode": {
    "name": "ipython",
    "version": 3
   },
   "file_extension": ".py",
   "mimetype": "text/x-python",
   "name": "python",
   "nbconvert_exporter": "python",
   "pygments_lexer": "ipython3",
   "version": "3.9.15"
  }
 },
 "nbformat": 4,
 "nbformat_minor": 5
}
